{
  "nbformat": 4,
  "nbformat_minor": 0,
  "metadata": {
    "colab": {
      "provenance": [],
      "include_colab_link": true
    },
    "kernelspec": {
      "name": "python3",
      "display_name": "Python 3"
    },
    "language_info": {
      "name": "python"
    }
  },
  "cells": [
    {
      "cell_type": "markdown",
      "metadata": {
        "id": "view-in-github",
        "colab_type": "text"
      },
      "source": [
        "<a href=\"https://colab.research.google.com/github/Vignesh218/ML-lab-experiments/blob/main/ML_LAB_8.ipynb\" target=\"_parent\"><img src=\"https://colab.research.google.com/assets/colab-badge.svg\" alt=\"Open In Colab\"/></a>"
      ]
    },
    {
      "cell_type": "code",
      "execution_count": null,
      "metadata": {
        "colab": {
          "base_uri": "https://localhost:8080/"
        },
        "id": "o81Y8DYOKN3O",
        "outputId": "62e5c921-8110-4769-aa50-2a17b7f649b9"
      },
      "outputs": [
        {
          "output_type": "stream",
          "name": "stdout",
          "text": [
            "Enter number of inputs: 3\n",
            "Enter input 1 (0 or 1): 0\n",
            "Enter input 2 (0 or 1): 0\n",
            "Enter input 3 (0 or 1): 1\n",
            "Choose gate type (AND/OR): or\n",
            "\n",
            "Inputs: [0, 0, 1]\n",
            "Gate: OR\n",
            "Output: 1\n"
          ]
        }
      ],
      "source": [
        "def mp_neuron(inputs, weights, threshold):\n",
        "    weighted_sum = sum(i * w for i, w in zip(inputs, weights))\n",
        "    return 1 if weighted_sum >= threshold else 0\n",
        "\n",
        "def AND_gate(inputs):\n",
        "    weights = [1] * len(inputs)\n",
        "    threshold = len(inputs)  # all inputs must be 1\n",
        "    return mp_neuron(inputs, weights, threshold)\n",
        "\n",
        "def OR_gate(inputs):\n",
        "    weights = [1] * len(inputs)\n",
        "    threshold = 1  # at least one input is 1\n",
        "    return mp_neuron(inputs, weights, threshold)\n",
        "\n",
        "# User interaction\n",
        "num_inputs = int(input(\"Enter number of inputs: \"))\n",
        "\n",
        "inputs = []\n",
        "for i in range(num_inputs):\n",
        "    while True:\n",
        "        val = input(f\"Enter input {i+1} (0 or 1): \")\n",
        "        if val in ['0', '1']:\n",
        "            inputs.append(int(val))\n",
        "            break\n",
        "        else:\n",
        "            print(\"Please enter 0 or 1.\")\n",
        "\n",
        "while True:\n",
        "    gate_type = input(\"Choose gate type (AND/OR): \").strip().upper()\n",
        "    if gate_type in ['AND', 'OR']:\n",
        "        break\n",
        "    else:\n",
        "        print(\"Please enter 'AND' or 'OR'.\")\n",
        "\n",
        "if gate_type == 'AND':\n",
        "    output = AND_gate(inputs)\n",
        "else:\n",
        "    output = OR_gate(inputs)\n",
        "\n",
        "print(f\"\\nInputs: {inputs}\")\n",
        "print(f\"Gate: {gate_type}\")\n",
        "print(f\"Output: {output}\")\n"
      ]
    }
  ]
}