{
  "nbformat": 4,
  "nbformat_minor": 0,
  "metadata": {
    "colab": {
      "provenance": [],
      "include_colab_link": true
    },
    "kernelspec": {
      "name": "python3",
      "display_name": "Python 3"
    },
    "language_info": {
      "name": "python"
    }
  },
  "cells": [
    {
      "cell_type": "markdown",
      "metadata": {
        "id": "view-in-github",
        "colab_type": "text"
      },
      "source": [
        "<a href=\"https://colab.research.google.com/github/Vignesh218/ML-lab-experiments/blob/main/ML_LAB_1.ipynb\" target=\"_parent\"><img src=\"https://colab.research.google.com/assets/colab-badge.svg\" alt=\"Open In Colab\"/></a>"
      ]
    },
    {
      "cell_type": "code",
      "source": [
        "import pandas as pd\n",
        "\n",
        "data = {\n",
        "    'Name': [\"Varun\",\"Nishad\",\"Akshat\",\"Saurabh\"],\n",
        "    'Age':[21,19,20,22],\n",
        "    'City':[\"Kharghar\",\"Powai\",\"Sangli\",\"Kalyan\"]\n",
        "}\n",
        "\n",
        "df = pd.DataFrame(data)\n",
        "index = [1,2,3,4]\n",
        "df.index = index\n",
        "print(df)\n",
        "print()\n",
        "cities = df['City']\n",
        "cities.index = index\n",
        "print(cities)\n",
        "\n",
        "filtered = df[df['Age']>20]\n",
        "\n",
        "print(filtered)"
      ],
      "metadata": {
        "colab": {
          "base_uri": "https://localhost:8080/"
        },
        "id": "Uma_K8xcjun5",
        "outputId": "1d391ce2-cc02-4f37-9035-d657390269f2"
      },
      "execution_count": null,
      "outputs": [
        {
          "output_type": "stream",
          "name": "stdout",
          "text": [
            "      Name  Age      City\n",
            "1    Varun   21  Kharghar\n",
            "2   Nishad   19     Powai\n",
            "3   Akshat   20    Sangli\n",
            "4  Saurabh   22    Kalyan\n",
            "\n",
            "1    Kharghar\n",
            "2       Powai\n",
            "3      Sangli\n",
            "4      Kalyan\n",
            "Name: City, dtype: object\n",
            "      Name  Age      City\n",
            "1    Varun   21  Kharghar\n",
            "4  Saurabh   22    Kalyan\n"
          ]
        }
      ]
    },
    {
      "cell_type": "code",
      "source": [
        "import numpy as np\n",
        "\n",
        "arr1 = np.array([[2,5],[7,8]])\n",
        "det = np.linalg.det(arr1)\n",
        "if det != 0:\n",
        "  print(\"It is invertible\")\n",
        "else:\n",
        "  print(\"It is not invertible\")\n",
        "\n"
      ],
      "metadata": {
        "colab": {
          "base_uri": "https://localhost:8080/"
        },
        "id": "J-1Mz4yOnam5",
        "outputId": "488c4d90-28f7-4042-84fb-78457a04cf7b"
      },
      "execution_count": null,
      "outputs": [
        {
          "output_type": "stream",
          "name": "stdout",
          "text": [
            "It is invertible\n"
          ]
        }
      ]
    },
    {
      "cell_type": "code",
      "source": [
        "import pandas as pd\n",
        "\n",
        "df = pd.read_csv('/crime_dataset_india.csv')\n",
        "\n",
        "cols_to_keep = [\n",
        "    'STATE/UT',\n",
        "    'YEAR',\n",
        "    'POPULATION',\n",
        "    'TOTAL IPC CRIMES',\n",
        "    'MURDER',\n",
        "    'THEFT',\n",
        "    'DOWRY DEATHS'\n",
        "]\n",
        "df_filtered = df[cols_to_keep]\n",
        "\n",
        "latest_year = df_filtered['YEAR'].max()\n",
        "top_states = df_filtered[df_filtered['YEAR'] == latest_year].sort_values(by='TOTAL IPC CRIMES', ascending=False).head(5)\n",
        "print(top_states[['STATE/UT', 'TOTAL IPC CRIMES','YEAR']])\n",
        "\n"
      ],
      "metadata": {
        "id": "QTxuXTe-nnSX"
      },
      "execution_count": null,
      "outputs": []
    },
    {
      "cell_type": "code",
      "source": [
        "import pandas as pd\n",
        "import numpy as np\n",
        "\n",
        "\n",
        "file_path = '/content/drive/MyDrive/SEM 5 MATERIALS VARUN/ML LAB SEM_5/crime_dataset_india.csv'\n",
        "\n",
        "# Read the CSV file\n",
        "df = pd.read_csv(file_path)\n",
        "print(\"Original Dataset Shape:\", df.shape)\n",
        "\n",
        "# -------------------------------------\n",
        "# 🧹 Step 3: Drop Unnecessary Columns & Rows\n",
        "# -------------------------------------\n",
        "\n",
        "# Drop columns that are less useful\n",
        "df_cleaned = df.drop(columns=['Report Number', 'Date Reported', 'Time of Occurrence', 'Date Case Closed'])\n",
        "\n",
        "# Drop rows with missing essential values\n",
        "df_cleaned = df_cleaned.dropna(subset=['City', 'Victim Age', 'Crime Description'])\n",
        "\n",
        "print(\"Cleaned Dataset Shape:\", df_cleaned.shape)\n",
        "df_cleaned.head()"
      ],
      "metadata": {
        "colab": {
          "base_uri": "https://localhost:8080/",
          "height": 258
        },
        "id": "CaBpa0yxRUkW",
        "outputId": "13aa988f-6ba6-46e3-c58b-469d7daacbb9"
      },
      "execution_count": null,
      "outputs": [
        {
          "output_type": "stream",
          "name": "stdout",
          "text": [
            "Original Dataset Shape: (40160, 14)\n",
            "Cleaned Dataset Shape: (40160, 10)\n"
          ]
        },
        {
          "output_type": "execute_result",
          "data": {
            "text/plain": [
              "  Date of Occurrence       City  Crime Code Crime Description  Victim Age  \\\n",
              "0   01-01-2020 00:00  Ahmedabad         576    IDENTITY THEFT          16   \n",
              "1   01-01-2020 01:00    Chennai         128          HOMICIDE          37   \n",
              "2   01-01-2020 02:00   Ludhiana         271        KIDNAPPING          48   \n",
              "3   01-01-2020 03:00       Pune         170          BURGLARY          49   \n",
              "4   01-01-2020 04:00       Pune         421         VANDALISM          30   \n",
              "\n",
              "  Victim Gender   Weapon Used   Crime Domain  Police Deployed Case Closed  \n",
              "0             M  Blunt Object  Violent Crime               13          No  \n",
              "1             M        Poison    Other Crime                9          No  \n",
              "2             F  Blunt Object    Other Crime               15          No  \n",
              "3             F       Firearm    Other Crime                1         Yes  \n",
              "4             F         Other    Other Crime               18         Yes  "
            ],
            "text/html": [
              "\n",
              "  <div id=\"df-7e202787-3e82-4e57-8c00-8e2fe80187e9\" class=\"colab-df-container\">\n",
              "    <div>\n",
              "<style scoped>\n",
              "    .dataframe tbody tr th:only-of-type {\n",
              "        vertical-align: middle;\n",
              "    }\n",
              "\n",
              "    .dataframe tbody tr th {\n",
              "        vertical-align: top;\n",
              "    }\n",
              "\n",
              "    .dataframe thead th {\n",
              "        text-align: right;\n",
              "    }\n",
              "</style>\n",
              "<table border=\"1\" class=\"dataframe\">\n",
              "  <thead>\n",
              "    <tr style=\"text-align: right;\">\n",
              "      <th></th>\n",
              "      <th>Date of Occurrence</th>\n",
              "      <th>City</th>\n",
              "      <th>Crime Code</th>\n",
              "      <th>Crime Description</th>\n",
              "      <th>Victim Age</th>\n",
              "      <th>Victim Gender</th>\n",
              "      <th>Weapon Used</th>\n",
              "      <th>Crime Domain</th>\n",
              "      <th>Police Deployed</th>\n",
              "      <th>Case Closed</th>\n",
              "    </tr>\n",
              "  </thead>\n",
              "  <tbody>\n",
              "    <tr>\n",
              "      <th>0</th>\n",
              "      <td>01-01-2020 00:00</td>\n",
              "      <td>Ahmedabad</td>\n",
              "      <td>576</td>\n",
              "      <td>IDENTITY THEFT</td>\n",
              "      <td>16</td>\n",
              "      <td>M</td>\n",
              "      <td>Blunt Object</td>\n",
              "      <td>Violent Crime</td>\n",
              "      <td>13</td>\n",
              "      <td>No</td>\n",
              "    </tr>\n",
              "    <tr>\n",
              "      <th>1</th>\n",
              "      <td>01-01-2020 01:00</td>\n",
              "      <td>Chennai</td>\n",
              "      <td>128</td>\n",
              "      <td>HOMICIDE</td>\n",
              "      <td>37</td>\n",
              "      <td>M</td>\n",
              "      <td>Poison</td>\n",
              "      <td>Other Crime</td>\n",
              "      <td>9</td>\n",
              "      <td>No</td>\n",
              "    </tr>\n",
              "    <tr>\n",
              "      <th>2</th>\n",
              "      <td>01-01-2020 02:00</td>\n",
              "      <td>Ludhiana</td>\n",
              "      <td>271</td>\n",
              "      <td>KIDNAPPING</td>\n",
              "      <td>48</td>\n",
              "      <td>F</td>\n",
              "      <td>Blunt Object</td>\n",
              "      <td>Other Crime</td>\n",
              "      <td>15</td>\n",
              "      <td>No</td>\n",
              "    </tr>\n",
              "    <tr>\n",
              "      <th>3</th>\n",
              "      <td>01-01-2020 03:00</td>\n",
              "      <td>Pune</td>\n",
              "      <td>170</td>\n",
              "      <td>BURGLARY</td>\n",
              "      <td>49</td>\n",
              "      <td>F</td>\n",
              "      <td>Firearm</td>\n",
              "      <td>Other Crime</td>\n",
              "      <td>1</td>\n",
              "      <td>Yes</td>\n",
              "    </tr>\n",
              "    <tr>\n",
              "      <th>4</th>\n",
              "      <td>01-01-2020 04:00</td>\n",
              "      <td>Pune</td>\n",
              "      <td>421</td>\n",
              "      <td>VANDALISM</td>\n",
              "      <td>30</td>\n",
              "      <td>F</td>\n",
              "      <td>Other</td>\n",
              "      <td>Other Crime</td>\n",
              "      <td>18</td>\n",
              "      <td>Yes</td>\n",
              "    </tr>\n",
              "  </tbody>\n",
              "</table>\n",
              "</div>\n",
              "    <div class=\"colab-df-buttons\">\n",
              "\n",
              "  <div class=\"colab-df-container\">\n",
              "    <button class=\"colab-df-convert\" onclick=\"convertToInteractive('df-7e202787-3e82-4e57-8c00-8e2fe80187e9')\"\n",
              "            title=\"Convert this dataframe to an interactive table.\"\n",
              "            style=\"display:none;\">\n",
              "\n",
              "  <svg xmlns=\"http://www.w3.org/2000/svg\" height=\"24px\" viewBox=\"0 -960 960 960\">\n",
              "    <path d=\"M120-120v-720h720v720H120Zm60-500h600v-160H180v160Zm220 220h160v-160H400v160Zm0 220h160v-160H400v160ZM180-400h160v-160H180v160Zm440 0h160v-160H620v160ZM180-180h160v-160H180v160Zm440 0h160v-160H620v160Z\"/>\n",
              "  </svg>\n",
              "    </button>\n",
              "\n",
              "  <style>\n",
              "    .colab-df-container {\n",
              "      display:flex;\n",
              "      gap: 12px;\n",
              "    }\n",
              "\n",
              "    .colab-df-convert {\n",
              "      background-color: #E8F0FE;\n",
              "      border: none;\n",
              "      border-radius: 50%;\n",
              "      cursor: pointer;\n",
              "      display: none;\n",
              "      fill: #1967D2;\n",
              "      height: 32px;\n",
              "      padding: 0 0 0 0;\n",
              "      width: 32px;\n",
              "    }\n",
              "\n",
              "    .colab-df-convert:hover {\n",
              "      background-color: #E2EBFA;\n",
              "      box-shadow: 0px 1px 2px rgba(60, 64, 67, 0.3), 0px 1px 3px 1px rgba(60, 64, 67, 0.15);\n",
              "      fill: #174EA6;\n",
              "    }\n",
              "\n",
              "    .colab-df-buttons div {\n",
              "      margin-bottom: 4px;\n",
              "    }\n",
              "\n",
              "    [theme=dark] .colab-df-convert {\n",
              "      background-color: #3B4455;\n",
              "      fill: #D2E3FC;\n",
              "    }\n",
              "\n",
              "    [theme=dark] .colab-df-convert:hover {\n",
              "      background-color: #434B5C;\n",
              "      box-shadow: 0px 1px 3px 1px rgba(0, 0, 0, 0.15);\n",
              "      filter: drop-shadow(0px 1px 2px rgba(0, 0, 0, 0.3));\n",
              "      fill: #FFFFFF;\n",
              "    }\n",
              "  </style>\n",
              "\n",
              "    <script>\n",
              "      const buttonEl =\n",
              "        document.querySelector('#df-7e202787-3e82-4e57-8c00-8e2fe80187e9 button.colab-df-convert');\n",
              "      buttonEl.style.display =\n",
              "        google.colab.kernel.accessAllowed ? 'block' : 'none';\n",
              "\n",
              "      async function convertToInteractive(key) {\n",
              "        const element = document.querySelector('#df-7e202787-3e82-4e57-8c00-8e2fe80187e9');\n",
              "        const dataTable =\n",
              "          await google.colab.kernel.invokeFunction('convertToInteractive',\n",
              "                                                    [key], {});\n",
              "        if (!dataTable) return;\n",
              "\n",
              "        const docLinkHtml = 'Like what you see? Visit the ' +\n",
              "          '<a target=\"_blank\" href=https://colab.research.google.com/notebooks/data_table.ipynb>data table notebook</a>'\n",
              "          + ' to learn more about interactive tables.';\n",
              "        element.innerHTML = '';\n",
              "        dataTable['output_type'] = 'display_data';\n",
              "        await google.colab.output.renderOutput(dataTable, element);\n",
              "        const docLink = document.createElement('div');\n",
              "        docLink.innerHTML = docLinkHtml;\n",
              "        element.appendChild(docLink);\n",
              "      }\n",
              "    </script>\n",
              "  </div>\n",
              "\n",
              "\n",
              "    <div id=\"df-2975391b-310d-4354-8b07-859010b1c380\">\n",
              "      <button class=\"colab-df-quickchart\" onclick=\"quickchart('df-2975391b-310d-4354-8b07-859010b1c380')\"\n",
              "                title=\"Suggest charts\"\n",
              "                style=\"display:none;\">\n",
              "\n",
              "<svg xmlns=\"http://www.w3.org/2000/svg\" height=\"24px\"viewBox=\"0 0 24 24\"\n",
              "     width=\"24px\">\n",
              "    <g>\n",
              "        <path d=\"M19 3H5c-1.1 0-2 .9-2 2v14c0 1.1.9 2 2 2h14c1.1 0 2-.9 2-2V5c0-1.1-.9-2-2-2zM9 17H7v-7h2v7zm4 0h-2V7h2v10zm4 0h-2v-4h2v4z\"/>\n",
              "    </g>\n",
              "</svg>\n",
              "      </button>\n",
              "\n",
              "<style>\n",
              "  .colab-df-quickchart {\n",
              "      --bg-color: #E8F0FE;\n",
              "      --fill-color: #1967D2;\n",
              "      --hover-bg-color: #E2EBFA;\n",
              "      --hover-fill-color: #174EA6;\n",
              "      --disabled-fill-color: #AAA;\n",
              "      --disabled-bg-color: #DDD;\n",
              "  }\n",
              "\n",
              "  [theme=dark] .colab-df-quickchart {\n",
              "      --bg-color: #3B4455;\n",
              "      --fill-color: #D2E3FC;\n",
              "      --hover-bg-color: #434B5C;\n",
              "      --hover-fill-color: #FFFFFF;\n",
              "      --disabled-bg-color: #3B4455;\n",
              "      --disabled-fill-color: #666;\n",
              "  }\n",
              "\n",
              "  .colab-df-quickchart {\n",
              "    background-color: var(--bg-color);\n",
              "    border: none;\n",
              "    border-radius: 50%;\n",
              "    cursor: pointer;\n",
              "    display: none;\n",
              "    fill: var(--fill-color);\n",
              "    height: 32px;\n",
              "    padding: 0;\n",
              "    width: 32px;\n",
              "  }\n",
              "\n",
              "  .colab-df-quickchart:hover {\n",
              "    background-color: var(--hover-bg-color);\n",
              "    box-shadow: 0 1px 2px rgba(60, 64, 67, 0.3), 0 1px 3px 1px rgba(60, 64, 67, 0.15);\n",
              "    fill: var(--button-hover-fill-color);\n",
              "  }\n",
              "\n",
              "  .colab-df-quickchart-complete:disabled,\n",
              "  .colab-df-quickchart-complete:disabled:hover {\n",
              "    background-color: var(--disabled-bg-color);\n",
              "    fill: var(--disabled-fill-color);\n",
              "    box-shadow: none;\n",
              "  }\n",
              "\n",
              "  .colab-df-spinner {\n",
              "    border: 2px solid var(--fill-color);\n",
              "    border-color: transparent;\n",
              "    border-bottom-color: var(--fill-color);\n",
              "    animation:\n",
              "      spin 1s steps(1) infinite;\n",
              "  }\n",
              "\n",
              "  @keyframes spin {\n",
              "    0% {\n",
              "      border-color: transparent;\n",
              "      border-bottom-color: var(--fill-color);\n",
              "      border-left-color: var(--fill-color);\n",
              "    }\n",
              "    20% {\n",
              "      border-color: transparent;\n",
              "      border-left-color: var(--fill-color);\n",
              "      border-top-color: var(--fill-color);\n",
              "    }\n",
              "    30% {\n",
              "      border-color: transparent;\n",
              "      border-left-color: var(--fill-color);\n",
              "      border-top-color: var(--fill-color);\n",
              "      border-right-color: var(--fill-color);\n",
              "    }\n",
              "    40% {\n",
              "      border-color: transparent;\n",
              "      border-right-color: var(--fill-color);\n",
              "      border-top-color: var(--fill-color);\n",
              "    }\n",
              "    60% {\n",
              "      border-color: transparent;\n",
              "      border-right-color: var(--fill-color);\n",
              "    }\n",
              "    80% {\n",
              "      border-color: transparent;\n",
              "      border-right-color: var(--fill-color);\n",
              "      border-bottom-color: var(--fill-color);\n",
              "    }\n",
              "    90% {\n",
              "      border-color: transparent;\n",
              "      border-bottom-color: var(--fill-color);\n",
              "    }\n",
              "  }\n",
              "</style>\n",
              "\n",
              "      <script>\n",
              "        async function quickchart(key) {\n",
              "          const quickchartButtonEl =\n",
              "            document.querySelector('#' + key + ' button');\n",
              "          quickchartButtonEl.disabled = true;  // To prevent multiple clicks.\n",
              "          quickchartButtonEl.classList.add('colab-df-spinner');\n",
              "          try {\n",
              "            const charts = await google.colab.kernel.invokeFunction(\n",
              "                'suggestCharts', [key], {});\n",
              "          } catch (error) {\n",
              "            console.error('Error during call to suggestCharts:', error);\n",
              "          }\n",
              "          quickchartButtonEl.classList.remove('colab-df-spinner');\n",
              "          quickchartButtonEl.classList.add('colab-df-quickchart-complete');\n",
              "        }\n",
              "        (() => {\n",
              "          let quickchartButtonEl =\n",
              "            document.querySelector('#df-2975391b-310d-4354-8b07-859010b1c380 button');\n",
              "          quickchartButtonEl.style.display =\n",
              "            google.colab.kernel.accessAllowed ? 'block' : 'none';\n",
              "        })();\n",
              "      </script>\n",
              "    </div>\n",
              "\n",
              "    </div>\n",
              "  </div>\n"
            ],
            "application/vnd.google.colaboratory.intrinsic+json": {
              "type": "dataframe",
              "variable_name": "df_cleaned",
              "summary": "{\n  \"name\": \"df_cleaned\",\n  \"rows\": 40160,\n  \"fields\": [\n    {\n      \"column\": \"Date of Occurrence\",\n      \"properties\": {\n        \"dtype\": \"object\",\n        \"num_unique_values\": 40160,\n        \"samples\": [\n          \"04-04-2021 15:00\",\n          \"03-13-2021 18:00\",\n          \"02-25-2024 14:00\"\n        ],\n        \"semantic_type\": \"\",\n        \"description\": \"\"\n      }\n    },\n    {\n      \"column\": \"City\",\n      \"properties\": {\n        \"dtype\": \"category\",\n        \"num_unique_values\": 29,\n        \"samples\": [\n          \"Srinagar\",\n          \"Kanpur\",\n          \"Jaipur\"\n        ],\n        \"semantic_type\": \"\",\n        \"description\": \"\"\n      }\n    },\n    {\n      \"column\": \"Crime Code\",\n      \"properties\": {\n        \"dtype\": \"number\",\n        \"std\": 144,\n        \"min\": 100,\n        \"max\": 599,\n        \"num_unique_values\": 500,\n        \"samples\": [\n          382,\n          197,\n          149\n        ],\n        \"semantic_type\": \"\",\n        \"description\": \"\"\n      }\n    },\n    {\n      \"column\": \"Crime Description\",\n      \"properties\": {\n        \"dtype\": \"category\",\n        \"num_unique_values\": 21,\n        \"samples\": [\n          \"IDENTITY THEFT\",\n          \"ILLEGAL POSSESSION\",\n          \"TRAFFIC VIOLATION\"\n        ],\n        \"semantic_type\": \"\",\n        \"description\": \"\"\n      }\n    },\n    {\n      \"column\": \"Victim Age\",\n      \"properties\": {\n        \"dtype\": \"number\",\n        \"std\": 20,\n        \"min\": 10,\n        \"max\": 79,\n        \"num_unique_values\": 70,\n        \"samples\": [\n          33,\n          16,\n          10\n        ],\n        \"semantic_type\": \"\",\n        \"description\": \"\"\n      }\n    },\n    {\n      \"column\": \"Victim Gender\",\n      \"properties\": {\n        \"dtype\": \"category\",\n        \"num_unique_values\": 3,\n        \"samples\": [\n          \"M\",\n          \"F\",\n          \"X\"\n        ],\n        \"semantic_type\": \"\",\n        \"description\": \"\"\n      }\n    },\n    {\n      \"column\": \"Weapon Used\",\n      \"properties\": {\n        \"dtype\": \"category\",\n        \"num_unique_values\": 6,\n        \"samples\": [\n          \"Blunt Object\",\n          \"Poison\",\n          \"Explosives\"\n        ],\n        \"semantic_type\": \"\",\n        \"description\": \"\"\n      }\n    },\n    {\n      \"column\": \"Crime Domain\",\n      \"properties\": {\n        \"dtype\": \"category\",\n        \"num_unique_values\": 4,\n        \"samples\": [\n          \"Other Crime\",\n          \"Traffic Fatality\",\n          \"Violent Crime\"\n        ],\n        \"semantic_type\": \"\",\n        \"description\": \"\"\n      }\n    },\n    {\n      \"column\": \"Police Deployed\",\n      \"properties\": {\n        \"dtype\": \"number\",\n        \"std\": 5,\n        \"min\": 1,\n        \"max\": 19,\n        \"num_unique_values\": 19,\n        \"samples\": [\n          13,\n          8,\n          6\n        ],\n        \"semantic_type\": \"\",\n        \"description\": \"\"\n      }\n    },\n    {\n      \"column\": \"Case Closed\",\n      \"properties\": {\n        \"dtype\": \"category\",\n        \"num_unique_values\": 2,\n        \"samples\": [\n          \"Yes\",\n          \"No\"\n        ],\n        \"semantic_type\": \"\",\n        \"description\": \"\"\n      }\n    }\n  ]\n}"
            }
          },
          "metadata": {},
          "execution_count": 2
        }
      ]
    },
    {
      "cell_type": "code",
      "source": [
        "# PANDAS Operations #\n",
        "# 1. Grouping: Crimes per city\n",
        "crime_by_city = df_cleaned.groupby('City').size().sort_values(ascending=False)\n",
        "print(\"\\n1. Crimes per city:\\n\", crime_by_city.head())"
      ],
      "metadata": {
        "colab": {
          "base_uri": "https://localhost:8080/"
        },
        "id": "kzyW_sDMSU10",
        "outputId": "b86b8bde-7c7d-401d-aab6-dc1bd1266b05"
      },
      "execution_count": null,
      "outputs": [
        {
          "output_type": "stream",
          "name": "stdout",
          "text": [
            "\n",
            "1. Crimes per city:\n",
            " City\n",
            "Delhi        5400\n",
            "Mumbai       4415\n",
            "Bangalore    3588\n",
            "Hyderabad    2881\n",
            "Kolkata      2518\n",
            "dtype: int64\n"
          ]
        }
      ]
    },
    {
      "cell_type": "code",
      "source": [
        "# 2. Filtering: Cases with Weapon = Firearm\n",
        "firearm_cases = df_cleaned[df_cleaned['Weapon Used'] == 'Firearm']\n",
        "print(\"\\n2. Firearm-related crimes:\\n\", firearm_cases.head())"
      ],
      "metadata": {
        "colab": {
          "base_uri": "https://localhost:8080/"
        },
        "id": "IuNll9OJSn-t",
        "outputId": "6c4e2006-4901-4d43-9a10-efadeb170ff6"
      },
      "execution_count": null,
      "outputs": [
        {
          "output_type": "stream",
          "name": "stdout",
          "text": [
            "\n",
            "2. Firearm-related crimes:\n",
            "    Date of Occurrence           City  Crime Code   Crime Description  \\\n",
            "3    01-01-2020 03:00           Pune         170            BURGLARY   \n",
            "5    01-01-2020 05:00          Delhi         442             ASSAULT   \n",
            "25   01-02-2020 01:00         Jaipur         282             ASSAULT   \n",
            "40   01-02-2020 16:00  Visakhapatnam         148            HOMICIDE   \n",
            "48   01-03-2020 00:00         Jaipur         139  ILLEGAL POSSESSION   \n",
            "\n",
            "    Victim Age Victim Gender Weapon Used   Crime Domain  Police Deployed  \\\n",
            "3           49             F     Firearm    Other Crime                1   \n",
            "5           16             M     Firearm  Violent Crime               18   \n",
            "25          60             M     Firearm  Violent Crime               15   \n",
            "40          28             F     Firearm    Other Crime                2   \n",
            "48          77             F     Firearm    Other Crime               17   \n",
            "\n",
            "   Case Closed  \n",
            "3          Yes  \n",
            "5          Yes  \n",
            "25         Yes  \n",
            "40          No  \n",
            "48          No  \n"
          ]
        }
      ]
    },
    {
      "cell_type": "code",
      "source": [
        "# 3. Sorting: Top police deployment\n",
        "sorted_police = df_cleaned.sort_values(by='Police Deployed', ascending=False)\n",
        "print(\"\\n3. Highest police deployed:\\n\", sorted_police[['City', 'Police Deployed']].head())"
      ],
      "metadata": {
        "colab": {
          "base_uri": "https://localhost:8080/"
        },
        "id": "S7jYLMEjSwDF",
        "outputId": "9da858b8-ae66-4387-810d-ac1e744ed57c"
      },
      "execution_count": null,
      "outputs": [
        {
          "output_type": "stream",
          "name": "stdout",
          "text": [
            "\n",
            "3. Highest police deployed:\n",
            "             City  Police Deployed\n",
            "16918  Bangalore               19\n",
            "16920     Mumbai               19\n",
            "32         Delhi               19\n",
            "8387   Ghaziabad               19\n",
            "40113     Mumbai               19\n"
          ]
        }
      ]
    },
    {
      "cell_type": "code",
      "source": [
        "# 4. Value Counts: Case Closed stats\n",
        "case_status = df_cleaned['Case Closed'].value_counts()\n",
        "print(\"\\n4. Case closure count:\\n\", case_status)"
      ],
      "metadata": {
        "colab": {
          "base_uri": "https://localhost:8080/"
        },
        "id": "3CMdEzLLS3LL",
        "outputId": "3717ef2b-139f-4630-f624-c03700f162e0"
      },
      "execution_count": null,
      "outputs": [
        {
          "output_type": "stream",
          "name": "stdout",
          "text": [
            "\n",
            "4. Case closure count:\n",
            " Case Closed\n",
            "No     20098\n",
            "Yes    20062\n",
            "Name: count, dtype: int64\n"
          ]
        }
      ]
    },
    {
      "cell_type": "code",
      "source": [
        "# 5. Case Duration (in days) for closed cases\n",
        "df_cleaned['Date of Occurrence'] = pd.to_datetime(df_cleaned['Date of Occurrence'], errors='coerce')\n",
        "df_cleaned['Case Closed Date'] = pd.to_datetime(df['Date Case Closed'], errors='coerce', dayfirst=True)\n",
        "df_cleaned['Case Duration (days)'] = (df_cleaned['Case Closed Date'] - df_cleaned['Date of Occurrence']).dt.days\n",
        "print(\"\\n5. Case Duration:\\n\", df_cleaned[['City', 'Case Closed', 'Case Duration (days)']].head())"
      ],
      "metadata": {
        "colab": {
          "base_uri": "https://localhost:8080/"
        },
        "id": "RHXek5qTTabX",
        "outputId": "48327948-f348-43e8-91d4-48c7f107a4cd"
      },
      "execution_count": null,
      "outputs": [
        {
          "output_type": "stream",
          "name": "stdout",
          "text": [
            "\n",
            "5. Case Duration:\n",
            "         City Case Closed  Case Duration (days)\n",
            "0  Ahmedabad          No                   NaN\n",
            "1    Chennai          No                   NaN\n",
            "2   Ludhiana          No                   NaN\n",
            "3       Pune         Yes                 119.0\n",
            "4       Pune         Yes                   7.0\n"
          ]
        }
      ]
    },
    {
      "cell_type": "code",
      "source": [
        "# NUMPY Operations #\n",
        "# Convert Victim Age to NumPy array\n",
        "ages = df_cleaned['Victim Age'].to_numpy()"
      ],
      "metadata": {
        "id": "xMmnjFyLTfYP"
      },
      "execution_count": null,
      "outputs": []
    },
    {
      "cell_type": "code",
      "source": [
        "# 1. Print first few elements\n",
        "print(\"\\n1. Victim Age Array:\\n\", ages[:5])"
      ],
      "metadata": {
        "colab": {
          "base_uri": "https://localhost:8080/"
        },
        "id": "I-QxWbP2T_hK",
        "outputId": "2b9162be-d42d-4615-aaeb-a400aa842cf1"
      },
      "execution_count": null,
      "outputs": [
        {
          "output_type": "stream",
          "name": "stdout",
          "text": [
            "\n",
            "1. Victim Age Array:\n",
            " [16 37 48 49 30]\n"
          ]
        }
      ]
    },
    {
      "cell_type": "code",
      "source": [
        "# 2. Basic statistics\n",
        "print(\"\\n2. Age Stats:\\nMean:\", np.mean(ages), \"\\nMedian:\", np.median(ages), \"\\nStd Dev:\", np.std(ages))"
      ],
      "metadata": {
        "colab": {
          "base_uri": "https://localhost:8080/"
        },
        "id": "PKXhBZsbUESx",
        "outputId": "953ab34c-2c16-4f0e-fee5-e0d05a60d300"
      },
      "execution_count": null,
      "outputs": [
        {
          "output_type": "stream",
          "name": "stdout",
          "text": [
            "\n",
            "2. Age Stats:\n",
            "Mean: 44.49125996015936 \n",
            "Median: 44.0 \n",
            "Std Dev: 20.225297837502605\n"
          ]
        }
      ]
    },
    {
      "cell_type": "code",
      "source": [
        "# 3. Boolean indexing (minors)\n",
        "minors = ages[ages < 18]\n",
        "print(\"\\n3. Minors (age < 18):\\n\", minors[:5])"
      ],
      "metadata": {
        "colab": {
          "base_uri": "https://localhost:8080/"
        },
        "id": "DRo8MG07UU49",
        "outputId": "3e5d4595-579e-4d0b-ef62-29f334c3698e"
      },
      "execution_count": null,
      "outputs": [
        {
          "output_type": "stream",
          "name": "stdout",
          "text": [
            "\n",
            "3. Minors (age < 18):\n",
            " [16 16 11 16 16]\n"
          ]
        }
      ]
    },
    {
      "cell_type": "code",
      "source": [
        "# 4. Binary closed/open status\n",
        "closed_array = np.where(df_cleaned['Case Closed'] == 'Yes', 1, 0)\n",
        "print(\"\\n4. Closed Cases Binary Array:\\n\", closed_array[:5])"
      ],
      "metadata": {
        "colab": {
          "base_uri": "https://localhost:8080/"
        },
        "id": "fFDPhOSIUX96",
        "outputId": "951e2df6-d934-485b-c9d6-2a827b9cbb1c"
      },
      "execution_count": null,
      "outputs": [
        {
          "output_type": "stream",
          "name": "stdout",
          "text": [
            "\n",
            "4. Closed Cases Binary Array:\n",
            " [0 0 0 1 1]\n"
          ]
        }
      ]
    },
    {
      "cell_type": "code",
      "source": [
        "# 5. Normalize Victim Age\n",
        "ages_norm = (ages - np.min(ages)) / (np.max(ages) - np.min(ages))\n",
        "print(\"\\n5. Normalized Victim Age:\\n\", ages_norm[:5])"
      ],
      "metadata": {
        "colab": {
          "base_uri": "https://localhost:8080/"
        },
        "id": "ibe-ZraLUcwt",
        "outputId": "c300014d-7c62-4647-96a8-5470d9735256"
      },
      "execution_count": null,
      "outputs": [
        {
          "output_type": "stream",
          "name": "stdout",
          "text": [
            "\n",
            "5. Normalized Victim Age:\n",
            " [0.08695652 0.39130435 0.55072464 0.56521739 0.28985507]\n"
          ]
        }
      ]
    },
    {
      "cell_type": "code",
      "source": [],
      "metadata": {
        "id": "QVJuZCf6bFhu"
      },
      "execution_count": null,
      "outputs": []
    }
  ]
}